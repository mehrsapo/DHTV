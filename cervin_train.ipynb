{
 "cells": [
  {
   "cell_type": "code",
   "execution_count": 1,
   "id": "c7f30058",
   "metadata": {},
   "outputs": [],
   "source": [
    "import numpy as np\n",
    "from MyPloter import *\n",
    "from HTV_Delaunay import MyDelaunay\n",
    "from opt_solver import solve_admm"
   ]
  },
  {
   "cell_type": "code",
   "execution_count": 2,
   "id": "d9ba9a2f",
   "metadata": {},
   "outputs": [],
   "source": [
    "data = np.loadtxt('cervin_gt.txt', skiprows=0)\n",
    "points = data[:, :2]\n",
    "values = data[:, 2]"
   ]
  },
  {
   "cell_type": "code",
   "execution_count": 3,
   "id": "b08a801f",
   "metadata": {},
   "outputs": [],
   "source": [
    "tri_gt = MyDelaunay(points, values)"
   ]
  },
  {
   "cell_type": "code",
   "execution_count": 4,
   "id": "9e9cd73c",
   "metadata": {},
   "outputs": [],
   "source": [
    "# sample train and test points\n",
    "np.random.seed(42)\n",
    "train_points = np.random.uniform(np.min(points), np.max(points), size=(8000, 2))\n",
    "train_values = tri_gt.evaluate(train_points)\n",
    "test_points = np.random.uniform(np.min(points), np.max(points), size=(2000, 2))\n",
    "test_values = tri_gt.evaluate(test_points)"
   ]
  },
  {
   "cell_type": "code",
   "execution_count": 5,
   "id": "607c5202",
   "metadata": {},
   "outputs": [],
   "source": [
    "# htv train \n",
    "tri = MyDelaunay(train_points, train_values)\n",
    "tri.construct_forward_matrix()\n",
    "tri.construct_regularization_matrix()"
   ]
  },
  {
   "cell_type": "code",
   "execution_count": 6,
   "id": "8df031f1",
   "metadata": {},
   "outputs": [
    {
     "name": "stderr",
     "output_type": "stream",
     "text": [
      "/home/pourya/.conda/envs/DHTV_env/lib/python3.9/site-packages/scipy/sparse/sputils.py:114: UserWarning: object dtype is not supported by sparse matrices\n",
      "  warnings.warn(\"object dtype is not supported by sparse matrices\")\n"
     ]
    },
    {
     "name": "stdout",
     "output_type": "stream",
     "text": [
      "1 1.1101293838e-06\n",
      "admm (tau, sigma): (1.1101293838017405e-06, 1)\n",
      "iter = 0\n",
      "iter = 2000\n",
      "iter = 4000\n",
      "iter = 6000\n",
      "iter = 8000\n",
      "iter = 10000\n",
      "iter = 12000\n",
      "iter = 14000\n",
      "iter = 16000\n",
      "iter = 18000\n",
      "iter = 20000\n",
      "iter = 22000\n",
      "iter = 24000\n",
      "iter = 26000\n",
      "iter = 28000\n",
      "iter = 30000\n",
      "iter = 32000\n",
      "iter = 34000\n",
      "iter = 36000\n",
      "iter = 38000\n",
      "iter = 40000\n",
      "iter = 42000\n",
      "iter = 44000\n",
      "iter = 46000\n",
      "iter = 48000\n",
      "iter = 50000\n",
      "iter = 52000\n",
      "iter = 54000\n",
      "iter = 56000\n",
      "iter = 58000\n",
      "iter = 60000\n",
      "iter = 62000\n",
      "iter = 64000\n",
      "iter = 66000\n",
      "iter = 68000\n",
      "iter = 70000\n",
      "iter = 72000\n",
      "iter = 74000\n",
      "iter = 76000\n",
      "iter = 78000\n",
      "iter = 80000\n",
      "iter = 82000\n",
      "iter = 84000\n",
      "iter = 86000\n",
      "iter = 88000\n",
      "iter = 90000\n",
      "iter = 92000\n",
      "iter = 94000\n",
      "iter = 96000\n",
      "iter = 98000\n",
      "iter = 100000\n",
      "iter = 102000\n",
      "iter = 104000\n",
      "iter = 106000\n",
      "iter = 108000\n",
      "iter = 110000\n",
      "iter = 112000\n",
      "iter = 114000\n",
      "iter = 116000\n",
      "iter = 118000\n"
     ]
    }
   ],
   "source": [
    "sigma = 1\n",
    "# 0, 0.003, 0.007, 0.01, 0.05[]\n",
    "lmbdas = [0.1]\n",
    "niter = 120000\n",
    "\n",
    "for lmbda in lmbdas: \n",
    "    z_admm = solve_admm(tri, lmbda, sigma, niter, file=None)\n",
    "    np.savetxt('z_admm_cervin'+str(lmbda)+'.txt', z_admm)"
   ]
  },
  {
   "cell_type": "code",
   "execution_count": null,
   "id": "af43b185",
   "metadata": {},
   "outputs": [],
   "source": []
  }
 ],
 "metadata": {
  "kernelspec": {
   "display_name": "Python 3",
   "language": "python",
   "name": "python3"
  },
  "language_info": {
   "codemirror_mode": {
    "name": "ipython",
    "version": 3
   },
   "file_extension": ".py",
   "mimetype": "text/x-python",
   "name": "python",
   "nbconvert_exporter": "python",
   "pygments_lexer": "ipython3",
   "version": "3.9.7"
  }
 },
 "nbformat": 4,
 "nbformat_minor": 5
}
